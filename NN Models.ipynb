{
 "cells": [
  {
   "cell_type": "markdown",
   "metadata": {},
   "source": [
    "# NN Models\n",
    "## Adaline"
   ]
  },
  {
   "cell_type": "markdown",
   "metadata": {},
   "source": [
    "### Imports"
   ]
  },
  {
   "cell_type": "code",
   "execution_count": 1,
   "metadata": {
    "collapsed": true
   },
   "outputs": [],
   "source": [
    "from __future__ import print_function\n",
    "import sys\n",
    "from matplotlib import pyplot as plt\n",
    "from matplotlib import lines as mlines\n",
    "import numpy as np\n",
    "%matplotlib inline"
   ]
  },
  {
   "cell_type": "markdown",
   "metadata": {},
   "source": [
    "### Predict function\n",
    "Threshold is theta <br>\n",
    "Total_activation is y(in)"
   ]
  },
  {
   "cell_type": "code",
   "execution_count": 27,
   "metadata": {
    "collapsed": true
   },
   "outputs": [],
   "source": [
    "def predict(inputs, weights):\n",
    "    threshold = 0.0\n",
    "    total_activation=0.0\n",
    "    for input, weight in zip(inputs, weights):\n",
    "        total_activation += input*weight\n",
    "    return 1.0 if total_activation >= threshold else 0.0"
   ]
  },
  {
   "cell_type": "markdown",
   "metadata": {},
   "source": [
    "### Accuracy function"
   ]
  },
  {
   "cell_type": "code",
   "execution_count": 29,
   "metadata": {
    "collapsed": true
   },
   "outputs": [],
   "source": [
    "def accuracy(matrix, weights):\n",
    "    num_correct = 0.0\n",
    "    preds = []\n",
    "    for i in range(len(matrix)):\n",
    "        # get prediction classification\n",
    "        pred = predict(matrix[i][:-1], weights)\n",
    "        preds.append(pred)\n",
    "        # check if prediction is accurate\n",
    "        if pred==matrix[i][-1]: num_correct+=1.0\n",
    "    \n",
    "    print(\"Predictions: \", preds)\n",
    "    \n",
    "    # return overall prediction accuracy\n",
    "    return num_correct/float(len(matrix))"
   ]
  },
  {
   "cell_type": "code",
   "execution_count": 30,
   "metadata": {
    "collapsed": true
   },
   "outputs": [],
   "source": [
    "def train_weights(matrix, weights, nb_epochs=10, l_rate= 1.0,\n",
    "                 do_plot=False, stop_early=True, verbose=True):\n",
    "    # iterate for the number of epochs\n",
    "    for epoch in range(nb_epochs):\n",
    "        # calculate the current accracy\n",
    "        cur_acc = accuracy(matrix, weights)\n",
    "        \n",
    "        print(\"\\nEpoch %d \\nWeights: \"%epoch, weights)\n",
    "        print(\"Accuracy: \",cur_acc)\n",
    "        \n",
    "        # check if we are finished training\n",
    "        if cur_acc==1.0 and stop_early: break\n",
    "            \n",
    "        # check if we should plot the current results\n",
    "        if do_plot: plot(matrix, weights, title=\"Epoch %d\"%epoch)\n",
    "            \n",
    "        # iterate over each training input\n",
    "        for i in range(len(matrix)):\n",
    "            # calculate prediction\n",
    "            prediction = predict(matrix[i][:-1], weights) \n",
    "            \n",
    "            # calculate error\n",
    "            error = matrix[i][-1] - prediction\n",
    "            \n",
    "            if verbose: print(\"Training on data at index %d...\"%i)\n",
    "            \n",
    "            # iterate over each weight and update it\n",
    "            for j in range(len(weights)):\n",
    "                if verbose: sys.stdout.write(\"\\tWeight[%d]: %0.5f --> \"%(j, weights[j]))    \n",
    "                weights[j] = weights[j] + (l_rate * error * matrix[i][j])\n",
    "                if verbose: sys.stdout.write(\"%0.5f\\n\"%weights[j])\n",
    "    \n",
    "    # plot out final results\n",
    "    plot(matrix, weights, title=\"Final Epoch\")\n",
    "    return weights"
   ]
  },
  {
   "cell_type": "markdown",
   "metadata": {},
   "source": [
    "### Data\n",
    "Bias x1 x2 y"
   ]
  },
  {
   "cell_type": "code",
   "execution_count": 31,
   "metadata": {
    "collapsed": true
   },
   "outputs": [],
   "source": [
    "data = [\n",
    "    [1, 0.08, 0.72, 1],\n",
    "    [1, 0.10, 1.00, 0],\n",
    "    [1, 0.26, 0.58, 1],\n",
    "    [1, 0.35, 0.95, 0],\n",
    "    [1, 0.45, 0.15, 1],\n",
    "    [1, 0.60, 0.30, 1],\n",
    "    [1, 0.70, 0.65, 0],\n",
    "    [1, 0.92, 0.45, 0]]\n",
    "\n",
    "weights = [0.2, 1, -1]"
   ]
  },
  {
   "cell_type": "code",
   "execution_count": 32,
   "metadata": {
    "collapsed": true
   },
   "outputs": [],
   "source": [
    "data2 = [\n",
    "    [1, -1, -1, -1],\n",
    "    [1, -1, 1, -1],\n",
    "    [1, 1, -1, -1],\n",
    "    [1, 1, 1, 1]]\n",
    "\n",
    "weights2 = [0.1, 0.1, 0.1]"
   ]
  },
  {
   "cell_type": "code",
   "execution_count": 33,
   "metadata": {
    "collapsed": true
   },
   "outputs": [],
   "source": [
    "def plot(matrix,weights=None,title=\"Prediction Matrix\"):\n",
    "\n",
    "    if len(matrix[0])==3: # if 1D inputs, excluding bias and ys \n",
    "        fig,ax = plt.subplots()\n",
    "        ax.set_title(title)\n",
    "        ax.set_xlabel(\"i1\")\n",
    "        ax.set_ylabel(\"Classifications\")\n",
    "\n",
    "        if weights!=None:\n",
    "            y_min=-0.1\n",
    "            y_max=1.1\n",
    "            x_min=0.0\n",
    "            x_max=1.1\n",
    "            y_res=0.001\n",
    "            x_res=0.001\n",
    "            ys=np.arange(y_min,y_max,y_res)\n",
    "            xs=np.arange(x_min,x_max,x_res)\n",
    "            zs=[]\n",
    "            for cur_y in np.arange(y_min,y_max,y_res):\n",
    "                for cur_x in np.arange(x_min,x_max,x_res):\n",
    "                    zs.append(predict([1.0,cur_x],weights))\n",
    "            xs,ys=np.meshgrid(xs,ys)\n",
    "            zs=np.array(zs)\n",
    "            zs = zs.reshape(xs.shape)\n",
    "            cp=plt.contourf(xs,ys,zs,levels=[-1,-0.0001,0,1],colors=('b','r'),alpha=0.1)\n",
    "        \n",
    "        c1_data=[[],[]]\n",
    "        c0_data=[[],[]]\n",
    "\n",
    "        for i in range(len(matrix)):\n",
    "            cur_i1 = matrix[i][1]\n",
    "            cur_y  = matrix[i][-1]\n",
    "\n",
    "            if cur_y==1:\n",
    "                c1_data[0].append(cur_i1)\n",
    "                c1_data[1].append(1.0)\n",
    "            else:\n",
    "                c0_data[0].append(cur_i1)\n",
    "                c0_data[1].append(0.0)\n",
    "\n",
    "        plt.xticks(np.arange(x_min,x_max,0.1))\n",
    "        plt.yticks(np.arange(y_min,y_max,0.1))\n",
    "        plt.xlim(0,1.05)\n",
    "        plt.ylim(-0.05,1.05)\n",
    "\n",
    "        c0s = plt.scatter(c0_data[0],c0_data[1],s=40.0,c='r',label='Class -1')\n",
    "        c1s = plt.scatter(c1_data[0],c1_data[1],s=40.0,c='b',label='Class 1')\n",
    "\n",
    "        plt.legend(fontsize=10,loc=1)\n",
    "        plt.show()\n",
    "        return\n",
    "\n",
    "    if len(matrix[0])==4: # if 2D inputs, excluding bias and ys\n",
    "        fig,ax = plt.subplots()\n",
    "        ax.set_title(title)\n",
    "        ax.set_xlabel(\"i1\")\n",
    "        ax.set_ylabel(\"i2\")\n",
    "\n",
    "        if weights!=None:\n",
    "            map_min=0.0\n",
    "            map_max=1.1\n",
    "            y_res=0.001\n",
    "            x_res=0.001\n",
    "            ys=np.arange(map_min,map_max,y_res)\n",
    "            xs=np.arange(map_min,map_max,x_res)\n",
    "            zs=[]\n",
    "            for cur_y in np.arange(map_min,map_max,y_res):\n",
    "                for cur_x in np.arange(map_min,map_max,x_res):\n",
    "                    zs.append(predict([1.0,cur_x,cur_y],weights))\n",
    "            xs,ys=np.meshgrid(xs,ys)\n",
    "            zs=np.array(zs)\n",
    "            zs = zs.reshape(xs.shape)\n",
    "            cp=plt.contourf(xs,ys,zs,levels=[-1,-0.0001,0,1],colors=('b','r'),alpha=0.1)\n",
    "\n",
    "        c1_data=[[],[]]\n",
    "        c0_data=[[],[]]\n",
    "        for i in range(len(matrix)):\n",
    "            cur_i1 = matrix[i][1]\n",
    "            cur_i2 = matrix[i][2]\n",
    "            cur_y  = matrix[i][-1]\n",
    "            if cur_y==1:\n",
    "                c1_data[0].append(cur_i1)\n",
    "                c1_data[1].append(cur_i2)\n",
    "            else:\n",
    "                c0_data[0].append(cur_i1)\n",
    "                c0_data[1].append(cur_i2)\n",
    "\n",
    "        plt.xticks(np.arange(0.0,1.1,0.1))\n",
    "        plt.yticks(np.arange(0.0,1.1,0.1))\n",
    "        plt.xlim(0,1.05)\n",
    "        plt.ylim(0,1.05)\n",
    "\n",
    "        c0s = plt.scatter(c0_data[0],c0_data[1],s=40.0,c='r',label='Class -1')\n",
    "        c1s = plt.scatter(c1_data[0],c1_data[1],s=40.0,c='b',label='Class 1')\n",
    "\n",
    "        plt.legend(fontsize=10,loc=1)\n",
    "        plt.show()\n",
    "        return\n",
    "    \n",
    "    print(\"Matrix dimensions not covered.\")"
   ]
  },
  {
   "cell_type": "code",
   "execution_count": 34,
   "metadata": {},
   "outputs": [
    {
     "data": {
      "image/png": "[encoded data removed]",
      "text/plain": [
       "<matplotlib.figure.Figure at 0x213d0f94160>"
      ]
     },
     "metadata": {},
     "output_type": "display_data"
    }
   ],
   "source": [
    "plot(data)"
   ]
  },
  {
   "cell_type": "markdown",
   "metadata": {},
   "source": [
    "Plotting Binary Input"
   ]
  },
  {
   "cell_type": "code",
   "execution_count": 35,
   "metadata": {},
   "outputs": [
    {
     "data": {
      "image/png": "[encoded data removed]",
      "text/plain": [
       "<matplotlib.figure.Figure at 0x213d0fe5128>"
      ]
     },
     "metadata": {},
     "output_type": "display_data"
    }
   ],
   "source": [
    "xCord = []\n",
    "yCord = []\n",
    "for i in range(len(data2)):\n",
    "    xCord.append(data2[i][1])\n",
    "    yCord.append(data2[i][2])\n",
    "plt.scatter(xCord, yCord)\n",
    "plt.show()"
   ]
  },
  {
   "cell_type": "code",
   "execution_count": 40,
   "metadata": {},
   "outputs": [
    {
     "name": "stdout",
     "output_type": "stream",
     "text": [
      "Predictions:  [0.0, 0.0, 0.0, 0.0, 1.0, 1.0, 1.0, 1.0]\n",
      "\n",
      "Epoch 0 \n",
      "Weights:  [0.2, 1, -1]\n",
      "Accuracy:  0.5\n"
     ]
    },
    {
     "data": {
      "image/png": "[encoded data removed]",
      "text/plain": [
       "<matplotlib.figure.Figure at 0x213d1039d68>"
      ]
     },
     "metadata": {},
     "output_type": "display_data"
    },
    {
     "name": "stdout",
     "output_type": "stream",
     "text": [
      "Predictions:  [0.0, 0.0, 0.0, 0.0, 0.0, 0.0, 0.0, 0.0]\n",
      "\n",
      "Epoch 1 \n",
      "Weights:  [-0.8, -0.029999999999999805, -2.1]\n",
      "Accuracy:  0.5\n"
     ]
    },
    {
     "data": {
      "image/png": "[encoded data removed]",
      "text/plain": [
       "<matplotlib.figure.Figure at 0x213d07dd2b0>"
      ]
     },
     "metadata": {},
     "output_type": "display_data"
    },
    {
     "name": "stdout",
     "output_type": "stream",
     "text": [
      "Predictions:  [0.0, 0.0, 0.0, 0.0, 0.0, 0.0, 0.0, 0.0]\n",
      "\n",
      "Epoch 2 \n",
      "Weights:  [0.19999999999999996, -0.2899999999999997, -2.25]\n",
      "Accuracy:  0.5\n"
     ]
    },
    {
     "data": {
      "image/png": "[encoded data removed]",
      "text/plain": [
       "<matplotlib.figure.Figure at 0x213cf6e0f60>"
      ]
     },
     "metadata": {},
     "output_type": "display_data"
    },
    {
     "name": "stdout",
     "output_type": "stream",
     "text": [
      "Predictions:  [0.0, 0.0, 0.0, 0.0, 0.0, 0.0, 0.0, 0.0]\n",
      "\n",
      "Epoch 3 \n",
      "Weights:  [0.19999999999999996, -0.9099999999999997, -2.18]\n",
      "Accuracy:  0.5\n"
     ]
    },
    {
     "data": {
      "image/png": "[encoded data removed]",
      "text/plain": [
       "<matplotlib.figure.Figure at 0x213d0f93cc0>"
      ]
     },
     "metadata": {},
     "output_type": "display_data"
    },
    {
     "name": "stdout",
     "output_type": "stream",
     "text": [
      "Predictions:  [1.0, 0.0, 1.0, 0.0, 1.0, 1.0, 0.0, 0.0]\n",
      "\n",
      "Epoch 4 \n",
      "Weights:  [1.2, -0.8299999999999997, -1.4600000000000002]\n",
      "Accuracy:  1.0\n"
     ]
    },
    {
     "data": {
      "image/png": "[encoded data removed]",
      "text/plain": [
       "<matplotlib.figure.Figure at 0x213d0c939e8>"
      ]
     },
     "metadata": {},
     "output_type": "display_data"
    },
    {
     "data": {
      "text/plain": [
       "[1.2, -0.8299999999999997, -1.4600000000000002]"
      ]
     },
     "execution_count": 40,
     "metadata": {},
     "output_type": "execute_result"
    }
   ],
   "source": [
    "train_weights(data, weights=weights, nb_epochs=10, \n",
    "              l_rate=1, do_plot=True, stop_early=True, verbose=False)"
   ]
  },
  {
   "cell_type": "code",
   "execution_count": 37,
   "metadata": {},
   "outputs": [
    {
     "name": "stdout",
     "output_type": "stream",
     "text": [
      "Predictions:  [0.0, 1.0, 1.0, 1.0]\n",
      "\n",
      "Epoch 0 \n",
      "Weights:  [0.1, 0.1, 0.1]\n",
      "Accuracy:  0.25\n",
      "Training on data at index 0...\n",
      "\tWeight[0]: 0.10000 --> -0.40000\n",
      "\tWeight[1]: 0.10000 --> 0.60000\n",
      "\tWeight[2]: 0.10000 --> 0.60000\n",
      "Training on data at index 1...\n",
      "\tWeight[0]: -0.40000 --> -0.90000\n",
      "\tWeight[1]: 0.60000 --> 1.10000\n",
      "\tWeight[2]: 0.60000 --> 0.10000\n",
      "Training on data at index 2...\n",
      "\tWeight[0]: -0.90000 --> -1.90000\n",
      "\tWeight[1]: 1.10000 --> 0.10000\n",
      "\tWeight[2]: 0.10000 --> 1.10000\n",
      "Training on data at index 3...\n",
      "\tWeight[0]: -1.90000 --> -1.40000\n",
      "\tWeight[1]: 0.10000 --> 0.60000\n",
      "\tWeight[2]: 1.10000 --> 1.60000\n",
      "Predictions:  [0.0, 0.0, 0.0, 1.0]\n",
      "\n",
      "Epoch 1 \n",
      "Weights:  [-1.4, 0.6000000000000001, 1.6]\n",
      "Accuracy:  0.25\n",
      "Training on data at index 0...\n",
      "\tWeight[0]: -1.40000 --> -1.90000\n",
      "\tWeight[1]: 0.60000 --> 1.10000\n",
      "\tWeight[2]: 1.60000 --> 2.10000\n",
      "Training on data at index 1...\n",
      "\tWeight[0]: -1.90000 --> -2.40000\n",
      "\tWeight[1]: 1.10000 --> 1.60000\n",
      "\tWeight[2]: 2.10000 --> 1.60000\n",
      "Training on data at index 2...\n",
      "\tWeight[0]: -2.40000 --> -2.90000\n",
      "\tWeight[1]: 1.60000 --> 1.10000\n",
      "\tWeight[2]: 1.60000 --> 2.10000\n",
      "Training on data at index 3...\n",
      "\tWeight[0]: -2.90000 --> -2.90000\n",
      "\tWeight[1]: 1.10000 --> 1.10000\n",
      "\tWeight[2]: 2.10000 --> 2.10000\n",
      "Predictions:  [0.0, 0.0, 0.0, 1.0]\n",
      "\n",
      "Epoch 2 \n",
      "Weights:  [-2.9, 1.1, 2.1]\n",
      "Accuracy:  0.25\n",
      "Training on data at index 0...\n",
      "\tWeight[0]: -2.90000 --> -3.40000\n",
      "\tWeight[1]: 1.10000 --> 1.60000\n",
      "\tWeight[2]: 2.10000 --> 2.60000\n",
      "Training on data at index 1...\n",
      "\tWeight[0]: -3.40000 --> -3.90000\n",
      "\tWeight[1]: 1.60000 --> 2.10000\n",
      "\tWeight[2]: 2.60000 --> 2.10000\n",
      "Training on data at index 2...\n",
      "\tWeight[0]: -3.90000 --> -4.40000\n",
      "\tWeight[1]: 2.10000 --> 1.60000\n",
      "\tWeight[2]: 2.10000 --> 2.60000\n",
      "Training on data at index 3...\n",
      "\tWeight[0]: -4.40000 --> -3.90000\n",
      "\tWeight[1]: 1.60000 --> 2.10000\n",
      "\tWeight[2]: 2.60000 --> 3.10000\n",
      "Predictions:  [0.0, 0.0, 0.0, 1.0]\n",
      "\n",
      "Epoch 3 \n",
      "Weights:  [-3.9000000000000004, 2.1, 3.1]\n",
      "Accuracy:  0.25\n",
      "Training on data at index 0...\n",
      "\tWeight[0]: -3.90000 --> -4.40000\n",
      "\tWeight[1]: 2.10000 --> 2.60000\n",
      "\tWeight[2]: 3.10000 --> 3.60000\n",
      "Training on data at index 1...\n",
      "\tWeight[0]: -4.40000 --> -4.90000\n",
      "\tWeight[1]: 2.60000 --> 3.10000\n",
      "\tWeight[2]: 3.60000 --> 3.10000\n",
      "Training on data at index 2...\n",
      "\tWeight[0]: -4.90000 --> -5.40000\n",
      "\tWeight[1]: 3.10000 --> 2.60000\n",
      "\tWeight[2]: 3.10000 --> 3.60000\n",
      "Training on data at index 3...\n",
      "\tWeight[0]: -5.40000 --> -5.40000\n",
      "\tWeight[1]: 2.60000 --> 2.60000\n",
      "\tWeight[2]: 3.60000 --> 3.60000\n",
      "Predictions:  [0.0, 0.0, 0.0, 1.0]\n",
      "\n",
      "Epoch 4 \n",
      "Weights:  [-5.4, 2.6, 3.6]\n",
      "Accuracy:  0.25\n",
      "Training on data at index 0...\n",
      "\tWeight[0]: -5.40000 --> -5.90000\n",
      "\tWeight[1]: 2.60000 --> 3.10000\n",
      "\tWeight[2]: 3.60000 --> 4.10000\n",
      "Training on data at index 1...\n",
      "\tWeight[0]: -5.90000 --> -6.40000\n",
      "\tWeight[1]: 3.10000 --> 3.60000\n",
      "\tWeight[2]: 4.10000 --> 3.60000\n",
      "Training on data at index 2...\n",
      "\tWeight[0]: -6.40000 --> -6.90000\n",
      "\tWeight[1]: 3.60000 --> 3.10000\n",
      "\tWeight[2]: 3.60000 --> 4.10000\n",
      "Training on data at index 3...\n",
      "\tWeight[0]: -6.90000 --> -6.90000\n",
      "\tWeight[1]: 3.10000 --> 3.10000\n",
      "\tWeight[2]: 4.10000 --> 4.10000\n",
      "Predictions:  [0.0, 0.0, 0.0, 1.0]\n",
      "\n",
      "Epoch 5 \n",
      "Weights:  [-6.9, 3.1, 4.1]\n",
      "Accuracy:  0.25\n",
      "Training on data at index 0...\n",
      "\tWeight[0]: -6.90000 --> -7.40000\n",
      "\tWeight[1]: 3.10000 --> 3.60000\n",
      "\tWeight[2]: 4.10000 --> 4.60000\n",
      "Training on data at index 1...\n",
      "\tWeight[0]: -7.40000 --> -7.90000\n",
      "\tWeight[1]: 3.60000 --> 4.10000\n",
      "\tWeight[2]: 4.60000 --> 4.10000\n",
      "Training on data at index 2...\n",
      "\tWeight[0]: -7.90000 --> -8.40000\n",
      "\tWeight[1]: 4.10000 --> 3.60000\n",
      "\tWeight[2]: 4.10000 --> 4.60000\n",
      "Training on data at index 3...\n",
      "\tWeight[0]: -8.40000 --> -7.90000\n",
      "\tWeight[1]: 3.60000 --> 4.10000\n",
      "\tWeight[2]: 4.60000 --> 5.10000\n",
      "Predictions:  [0.0, 0.0, 0.0, 1.0]\n",
      "\n",
      "Epoch 6 \n",
      "Weights:  [-7.9, 4.1, 5.1]\n",
      "Accuracy:  0.25\n",
      "Training on data at index 0...\n",
      "\tWeight[0]: -7.90000 --> -8.40000\n",
      "\tWeight[1]: 4.10000 --> 4.60000\n",
      "\tWeight[2]: 5.10000 --> 5.60000\n",
      "Training on data at index 1...\n",
      "\tWeight[0]: -8.40000 --> -8.90000\n",
      "\tWeight[1]: 4.60000 --> 5.10000\n",
      "\tWeight[2]: 5.60000 --> 5.10000\n",
      "Training on data at index 2...\n",
      "\tWeight[0]: -8.90000 --> -9.40000\n",
      "\tWeight[1]: 5.10000 --> 4.60000\n",
      "\tWeight[2]: 5.10000 --> 5.60000\n",
      "Training on data at index 3...\n",
      "\tWeight[0]: -9.40000 --> -9.40000\n",
      "\tWeight[1]: 4.60000 --> 4.60000\n",
      "\tWeight[2]: 5.60000 --> 5.60000\n",
      "Predictions:  [0.0, 0.0, 0.0, 1.0]\n",
      "\n",
      "Epoch 7 \n",
      "Weights:  [-9.4, 4.6, 5.6]\n",
      "Accuracy:  0.25\n",
      "Training on data at index 0...\n",
      "\tWeight[0]: -9.40000 --> -9.90000\n",
      "\tWeight[1]: 4.60000 --> 5.10000\n",
      "\tWeight[2]: 5.60000 --> 6.10000\n",
      "Training on data at index 1...\n",
      "\tWeight[0]: -9.90000 --> -10.40000\n",
      "\tWeight[1]: 5.10000 --> 5.60000\n",
      "\tWeight[2]: 6.10000 --> 5.60000\n",
      "Training on data at index 2...\n",
      "\tWeight[0]: -10.40000 --> -10.90000\n",
      "\tWeight[1]: 5.60000 --> 5.10000\n",
      "\tWeight[2]: 5.60000 --> 6.10000\n",
      "Training on data at index 3...\n",
      "\tWeight[0]: -10.90000 --> -10.90000\n",
      "\tWeight[1]: 5.10000 --> 5.10000\n",
      "\tWeight[2]: 6.10000 --> 6.10000\n",
      "Predictions:  [0.0, 0.0, 0.0, 1.0]\n",
      "\n",
      "Epoch 8 \n",
      "Weights:  [-10.9, 5.1, 6.1]\n",
      "Accuracy:  0.25\n",
      "Training on data at index 0...\n",
      "\tWeight[0]: -10.90000 --> -11.40000\n",
      "\tWeight[1]: 5.10000 --> 5.60000\n",
      "\tWeight[2]: 6.10000 --> 6.60000\n",
      "Training on data at index 1...\n",
      "\tWeight[0]: -11.40000 --> -11.90000\n",
      "\tWeight[1]: 5.60000 --> 6.10000\n",
      "\tWeight[2]: 6.60000 --> 6.10000\n",
      "Training on data at index 2...\n",
      "\tWeight[0]: -11.90000 --> -12.40000\n",
      "\tWeight[1]: 6.10000 --> 5.60000\n",
      "\tWeight[2]: 6.10000 --> 6.60000\n",
      "Training on data at index 3...\n",
      "\tWeight[0]: -12.40000 --> -11.90000\n",
      "\tWeight[1]: 5.60000 --> 6.10000\n",
      "\tWeight[2]: 6.60000 --> 7.10000\n",
      "Predictions:  [0.0, 0.0, 0.0, 1.0]\n",
      "\n",
      "Epoch 9 \n",
      "Weights:  [-11.9, 6.1, 7.1]\n",
      "Accuracy:  0.25\n",
      "Training on data at index 0...\n",
      "\tWeight[0]: -11.90000 --> -12.40000\n",
      "\tWeight[1]: 6.10000 --> 6.60000\n",
      "\tWeight[2]: 7.10000 --> 7.60000\n",
      "Training on data at index 1...\n",
      "\tWeight[0]: -12.40000 --> -12.90000\n",
      "\tWeight[1]: 6.60000 --> 7.10000\n",
      "\tWeight[2]: 7.60000 --> 7.10000\n",
      "Training on data at index 2...\n",
      "\tWeight[0]: -12.90000 --> -13.40000\n",
      "\tWeight[1]: 7.10000 --> 6.60000\n",
      "\tWeight[2]: 7.10000 --> 7.60000\n",
      "Training on data at index 3...\n",
      "\tWeight[0]: -13.40000 --> -13.40000\n",
      "\tWeight[1]: 6.60000 --> 6.60000\n",
      "\tWeight[2]: 7.60000 --> 7.60000\n"
     ]
    },
    {
     "data": {
      "image/png": "[encoded data removed]",
      "text/plain": [
       "<matplotlib.figure.Figure at 0x213d10d38d0>"
      ]
     },
     "metadata": {},
     "output_type": "display_data"
    },
    {
     "data": {
      "text/plain": [
       "[-13.4, 6.6, 7.6]"
      ]
     },
     "execution_count": 37,
     "metadata": {},
     "output_type": "execute_result"
    }
   ],
   "source": [
    "train_weights(data2, weights2, nb_epochs=10, l_rate=0.5, do_plot=False, stop_early=True, verbose=True)"
   ]
  },
  {
   "cell_type": "code",
   "execution_count": 38,
   "metadata": {},
   "outputs": [],
   "source": [
    "def newline(p1, p2):\n",
    "    ax = plt.gca()\n",
    "    xmin, xmax = ax.get_xbound()\n",
    "\n",
    "    if(p2[0] == p1[0]):\n",
    "        xmin = xmax = p1[0]\n",
    "        ymin, ymax = ax.get_ybound()\n",
    "    else:\n",
    "        ymax = p1[1]+(p2[1]-p1[1])/(p2[0]-p1[0])*(xmax-p1[0])\n",
    "        ymin = p1[1]+(p2[1]-p1[1])/(p2[0]-p1[0])*(xmin-p1[0])\n",
    "\n",
    "    l = mlines.Line2D([xmin,xmax], [ymin,ymax])\n",
    "    ax.add_line(l)\n",
    "    return l"
   ]
  },
  {
   "cell_type": "code",
   "execution_count": 39,
   "metadata": {},
   "outputs": [
    {
     "data": {
      "image/png": "[encoded data removed]",
      "text/plain": [
       "<matplotlib.figure.Figure at 0x213d10acc88>"
      ]
     },
     "metadata": {},
     "output_type": "display_data"
    }
   ],
   "source": [
    "plt.scatter(xCord, yCord)\n",
    "p1 = [0, (-1*weights2[0])/weights2[2]]\n",
    "p2 = [(-1*weights2[0])/weights2[1], 0]\n",
    "newline(p1, p2)\n",
    "plt.show()"
   ]
  },
  {
   "cell_type": "markdown",
   "metadata": {},
   "source": [
    "### Using Perceptron"
   ]
  },
  {
   "cell_type": "code",
   "execution_count": 41,
   "metadata": {
    "collapsed": true
   },
   "outputs": [],
   "source": [
    "def train_weights_perceptron(matrix, weights, nb_epochs=10, l_rate= 1.0):\n",
    "    for epoch in range(nb_epochs):\n",
    "        cur_acc = accuracy(matrix, weights)\n",
    "        \n",
    "        print(\"\\nEpoch %d \\nWeights: \"%epoch, weights)\n",
    "        print(\"Accuracy: \",cur_acc)\n",
    "    \n",
    "        if cur_acc==1.0: break\n",
    "            \n",
    "        for i in range(len(matrix)):\n",
    "            prediction = predict(matrix[i][:-1], weights) \n",
    "            \n",
    "            error = matrix[i][-1]\n",
    "            \n",
    "            for j in range(len(weights)):\n",
    "                weights[j] = weights[j] + (l_rate * error * matrix[i][j])\n",
    "    \n",
    "    print(\"Final weights\", weights)\n",
    "    return weights"
   ]
  },
  {
   "cell_type": "code",
   "execution_count": 43,
   "metadata": {},
   "outputs": [
    {
     "name": "stdout",
     "output_type": "stream",
     "text": [
      "Predictions:  [1.0, 1.0, 1.0, 1.0]\n",
      "\n",
      "Epoch 0 \n",
      "Weights:  [0, 0, 0]\n",
      "Accuracy:  0.25\n",
      "Predictions:  [0.0, 0.0, 0.0, 1.0]\n",
      "\n",
      "Epoch 1 \n",
      "Weights:  [-2, 2, 2]\n",
      "Accuracy:  0.25\n",
      "Predictions:  [0.0, 0.0, 0.0, 1.0]\n",
      "\n",
      "Epoch 2 \n",
      "Weights:  [-4, 4, 4]\n",
      "Accuracy:  0.25\n",
      "Predictions:  [0.0, 0.0, 0.0, 1.0]\n",
      "\n",
      "Epoch 3 \n",
      "Weights:  [-6, 6, 6]\n",
      "Accuracy:  0.25\n",
      "Predictions:  [0.0, 0.0, 0.0, 1.0]\n",
      "\n",
      "Epoch 4 \n",
      "Weights:  [-8, 8, 8]\n",
      "Accuracy:  0.25\n",
      "Predictions:  [0.0, 0.0, 0.0, 1.0]\n",
      "\n",
      "Epoch 5 \n",
      "Weights:  [-10, 10, 10]\n",
      "Accuracy:  0.25\n",
      "Predictions:  [0.0, 0.0, 0.0, 1.0]\n",
      "\n",
      "Epoch 6 \n",
      "Weights:  [-12, 12, 12]\n",
      "Accuracy:  0.25\n",
      "Predictions:  [0.0, 0.0, 0.0, 1.0]\n",
      "\n",
      "Epoch 7 \n",
      "Weights:  [-14, 14, 14]\n",
      "Accuracy:  0.25\n",
      "Predictions:  [0.0, 0.0, 0.0, 1.0]\n",
      "\n",
      "Epoch 8 \n",
      "Weights:  [-16, 16, 16]\n",
      "Accuracy:  0.25\n",
      "Predictions:  [0.0, 0.0, 0.0, 1.0]\n",
      "\n",
      "Epoch 9 \n",
      "Weights:  [-18, 18, 18]\n",
      "Accuracy:  0.25\n",
      "Final weights [-20, 20, 20]\n"
     ]
    },
    {
     "data": {
      "text/plain": [
       "[-20, 20, 20]"
      ]
     },
     "execution_count": 43,
     "metadata": {},
     "output_type": "execute_result"
    }
   ],
   "source": [
    "weights2 = [0, 0, 0]\n",
    "train_weights_perceptron(data2, weights2, 10, 1)"
   ]
  },
  {
   "cell_type": "code",
   "execution_count": 44,
   "metadata": {},
   "outputs": [
    {
     "data": {
      "image/png": "[encoded data removed]",
      "text/plain": [
       "<matplotlib.figure.Figure at 0x213d2190668>"
      ]
     },
     "metadata": {},
     "output_type": "display_data"
    }
   ],
   "source": [
    "plt.scatter(xCord, yCord)\n",
    "p1 = [0, (-1*weights2[0])/weights2[2]]\n",
    "p2 = [(-1*weights2[0])/weights2[1], 0]\n",
    "newline(p1, p2)\n",
    "plt.show()"
   ]
  },
  {
   "cell_type": "markdown",
   "metadata": {},
   "source": [
    "### Using Hebbs"
   ]
  },
  {
   "cell_type": "code",
   "execution_count": 45,
   "metadata": {
    "collapsed": true
   },
   "outputs": [],
   "source": [
    "def train_weights_hebbs(matrix, weights, nb_epochs=10):\n",
    "    for epoch in range(nb_epochs):\n",
    "        cur_acc = accuracy(matrix, weights)\n",
    "        \n",
    "        print(\"\\nEpoch %d \\nWeights: \"%epoch, weights)\n",
    "        print(\"Accuracy: \",cur_acc)\n",
    "    \n",
    "        if cur_acc==1.0: break\n",
    "            \n",
    "        for i in range(len(matrix)):\n",
    "            prediction = predict(matrix[i][:-1], weights) \n",
    "            \n",
    "            for j in range(len(weights)):\n",
    "                weights[j] = weights[j] + (matrix[i][-1] * matrix[i][j])\n",
    "    \n",
    "    print(\"Final weights\", weights)\n",
    "    return weights"
   ]
  },
  {
   "cell_type": "code",
   "execution_count": 47,
   "metadata": {},
   "outputs": [
    {
     "name": "stdout",
     "output_type": "stream",
     "text": [
      "Predictions:  [1.0, 1.0, 1.0, 1.0]\n",
      "\n",
      "Epoch 0 \n",
      "Weights:  [0, 0, 0]\n",
      "Accuracy:  0.25\n",
      "Predictions:  [0.0, 0.0, 0.0, 1.0]\n",
      "\n",
      "Epoch 1 \n",
      "Weights:  [-2, 2, 2]\n",
      "Accuracy:  0.25\n",
      "Predictions:  [0.0, 0.0, 0.0, 1.0]\n",
      "\n",
      "Epoch 2 \n",
      "Weights:  [-4, 4, 4]\n",
      "Accuracy:  0.25\n",
      "Predictions:  [0.0, 0.0, 0.0, 1.0]\n",
      "\n",
      "Epoch 3 \n",
      "Weights:  [-6, 6, 6]\n",
      "Accuracy:  0.25\n",
      "Predictions:  [0.0, 0.0, 0.0, 1.0]\n",
      "\n",
      "Epoch 4 \n",
      "Weights:  [-8, 8, 8]\n",
      "Accuracy:  0.25\n",
      "Predictions:  [0.0, 0.0, 0.0, 1.0]\n",
      "\n",
      "Epoch 5 \n",
      "Weights:  [-10, 10, 10]\n",
      "Accuracy:  0.25\n",
      "Predictions:  [0.0, 0.0, 0.0, 1.0]\n",
      "\n",
      "Epoch 6 \n",
      "Weights:  [-12, 12, 12]\n",
      "Accuracy:  0.25\n",
      "Predictions:  [0.0, 0.0, 0.0, 1.0]\n",
      "\n",
      "Epoch 7 \n",
      "Weights:  [-14, 14, 14]\n",
      "Accuracy:  0.25\n",
      "Predictions:  [0.0, 0.0, 0.0, 1.0]\n",
      "\n",
      "Epoch 8 \n",
      "Weights:  [-16, 16, 16]\n",
      "Accuracy:  0.25\n",
      "Predictions:  [0.0, 0.0, 0.0, 1.0]\n",
      "\n",
      "Epoch 9 \n",
      "Weights:  [-18, 18, 18]\n",
      "Accuracy:  0.25\n",
      "Final weights [-20, 20, 20]\n"
     ]
    },
    {
     "data": {
      "text/plain": [
       "[-20, 20, 20]"
      ]
     },
     "execution_count": 47,
     "metadata": {},
     "output_type": "execute_result"
    }
   ],
   "source": [
    "weights2 = [0, 0, 0]\n",
    "train_weights_hebbs(data2, weights2, 10)"
   ]
  },
  {
   "cell_type": "code",
   "execution_count": 48,
   "metadata": {},
   "outputs": [
    {
     "data": {
      "image/png": "[encoded data removed]",
      "text/plain": [
       "<matplotlib.figure.Figure at 0x213d0cc59e8>"
      ]
     },
     "metadata": {},
     "output_type": "display_data"
    }
   ],
   "source": [
    "plt.scatter(xCord, yCord)\n",
    "p1 = [0, (-1*weights2[0])/weights2[2]]\n",
    "p2 = [(-1*weights2[0])/weights2[1], 0]\n",
    "newline(p1, p2)\n",
    "plt.show()"
   ]
  }
 ],
 "metadata": {
  "kernelspec": {
   "display_name": "Python 3",
   "language": "python",
   "name": "python3"
  },
  "language_info": {
   "codemirror_mode": {
    "name": "ipython",
    "version": 3
   },
   "file_extension": ".py",
   "mimetype": "text/x-python",
   "name": "python",
   "nbconvert_exporter": "python",
   "pygments_lexer": "ipython3",
   "version": "3.6.3"
  }
 },
 "nbformat": 4,
 "nbformat_minor": 2
}
